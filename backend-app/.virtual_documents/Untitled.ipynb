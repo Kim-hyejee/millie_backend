# change_book_ids.py
import re

def change_book_ids():
    # books_insert.sql 파일 읽기
    with open('books_insert.sql', 'r', encoding='utf-8') as file:
        content = file.read()
    
    # INSERT 문에서 ID 변경 (101부터 시작하는 것을 106부터 시작하도록)
    # 정규식으로 ID 패턴 찾기
    pattern = r'INSERT INTO books \(id, title, author, total_pages, isbn, created_at\) VALUES\s*\n(.*?);'
    
    def replace_ids(match):
        values_section = match.group(1)
        lines = values_section.strip().split('\n')
        
        new_lines = []
        current_id = 106  # 106부터 시작
        
        for line in lines:
            line = line.strip()
            if line.startswith('(') and line.endswith(','):
                # ID 부분만 변경
                new_line = re.sub(r'\(\d+,', f'({current_id},', line)
                new_lines.append(new_line)
                current_id += 1
            elif line.startswith('(') and line.endswith(')'):
                # 마지막 줄 (쉼표 없음)
                new_line = re.sub(r'\(\d+,', f'({current_id},', line)
                new_lines.append(new_line)
                current_id += 1
            else:
                new_lines.append(line)
        
        return f"INSERT INTO books (id, title, author, total_pages, isbn, created_at) VALUES\n" + "\n".join(new_lines) + ";"
    
    # ID 변경 적용
    modified_content = re.sub(pattern, replace_ids, content, flags=re.DOTALL)
    
    # 변경된 내용을 새 파일로 저장
    with open('books_insert_modified.sql', 'w', encoding='utf-8') as file:
        file.write(modified_content)
    
    print("ID가 변경된 파일이 books_insert_modified.sql로 저장되었습니다.")

if __name__ == "__main__":
    change_book_ids()



