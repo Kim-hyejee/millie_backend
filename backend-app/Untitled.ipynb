{
 "cells": [
  {
   "cell_type": "code",
   "execution_count": 1,
   "id": "d1bdbbed-d13d-4920-a16a-eac90c7b84ec",
   "metadata": {},
   "outputs": [
    {
     "name": "stdout",
     "output_type": "stream",
     "text": [
      "ID가 변경된 파일이 books_insert_modified.sql로 저장되었습니다.\n"
     ]
    }
   ],
   "source": [
    "# change_book_ids.py\n",
    "import re\n",
    "\n",
    "def change_book_ids():\n",
    "    # books_insert.sql 파일 읽기\n",
    "    with open('books_insert.sql', 'r', encoding='utf-8') as file:\n",
    "        content = file.read()\n",
    "    \n",
    "    # INSERT 문에서 ID 변경 (101부터 시작하는 것을 106부터 시작하도록)\n",
    "    # 정규식으로 ID 패턴 찾기\n",
    "    pattern = r'INSERT INTO books \\(id, title, author, total_pages, isbn, created_at\\) VALUES\\s*\\n(.*?);'\n",
    "    \n",
    "    def replace_ids(match):\n",
    "        values_section = match.group(1)\n",
    "        lines = values_section.strip().split('\\n')\n",
    "        \n",
    "        new_lines = []\n",
    "        current_id = 106  # 106부터 시작\n",
    "        \n",
    "        for line in lines:\n",
    "            line = line.strip()\n",
    "            if line.startswith('(') and line.endswith(','):\n",
    "                # ID 부분만 변경\n",
    "                new_line = re.sub(r'\\(\\d+,', f'({current_id},', line)\n",
    "                new_lines.append(new_line)\n",
    "                current_id += 1\n",
    "            elif line.startswith('(') and line.endswith(')'):\n",
    "                # 마지막 줄 (쉼표 없음)\n",
    "                new_line = re.sub(r'\\(\\d+,', f'({current_id},', line)\n",
    "                new_lines.append(new_line)\n",
    "                current_id += 1\n",
    "            else:\n",
    "                new_lines.append(line)\n",
    "        \n",
    "        return f\"INSERT INTO books (id, title, author, total_pages, isbn, created_at) VALUES\\n\" + \"\\n\".join(new_lines) + \";\"\n",
    "    \n",
    "    # ID 변경 적용\n",
    "    modified_content = re.sub(pattern, replace_ids, content, flags=re.DOTALL)\n",
    "    \n",
    "    # 변경된 내용을 새 파일로 저장\n",
    "    with open('books_insert_modified.sql', 'w', encoding='utf-8') as file:\n",
    "        file.write(modified_content)\n",
    "    \n",
    "    print(\"ID가 변경된 파일이 books_insert_modified.sql로 저장되었습니다.\")\n",
    "\n",
    "if __name__ == \"__main__\":\n",
    "    change_book_ids()"
   ]
  },
  {
   "cell_type": "code",
   "execution_count": null,
   "id": "815b2f41-652e-4ebe-a671-da24055e4535",
   "metadata": {},
   "outputs": [],
   "source": []
  }
 ],
 "metadata": {
  "kernelspec": {
   "display_name": "Python 3 (ipykernel)",
   "language": "python",
   "name": "python3"
  },
  "language_info": {
   "codemirror_mode": {
    "name": "ipython",
    "version": 3
   },
   "file_extension": ".py",
   "mimetype": "text/x-python",
   "name": "python",
   "nbconvert_exporter": "python",
   "pygments_lexer": "ipython3",
   "version": "3.12.4"
  }
 },
 "nbformat": 4,
 "nbformat_minor": 5
}
